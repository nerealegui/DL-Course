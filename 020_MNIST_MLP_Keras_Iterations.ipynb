{
 "cells": [
  {
   "cell_type": "markdown",
   "id": "c5a0508d",
   "metadata": {},
   "source": [
    "<a target=\"_blank\" href=\"https://colab.research.google.com/github/nerealegui/DL-course/blob/main/00_MNIST_MLP_Keras.ipynb\">\n",
    "  <img src=\"https://colab.research.google.com/assets/colab-badge.svg\" alt=\"Open In Colab\"/>\n",
    "</a>"
   ]
  },
  {
   "cell_type": "markdown",
   "metadata": {},
   "source": [
    "### **MNIST MLP Iterations**\n",
    "\n",
    "This notebook contains different iterations of the MLP model to observe the impact on performance.\n",
    "\n",
    "#### **Iteration 1: Increase the number of hidden layers to 2**"
   ]
  },
  {
   "cell_type": "code",
   "execution_count": null,
   "metadata": {},
   "outputs": [],
   "source": [
    "!pip install tensorflow==2.17.1\n",
    "!pip install keras==3.6.0\n",
    "!pip install session_info"
   ]
  },
  {
   "cell_type": "code",
   "execution_count": null,
   "id": "df6c4745",
   "metadata": {},
   "outputs": [],
   "source": [
    "import os\n",
    "model.summary()\n",
    "\n",
    "model.compile(optimizer='SGD', loss='MeanSquaredError', metrics=['accuracy'])\n",
    "history = model.fit(x_train, y_train, epochs=100, batch_size=100, validation_split=0.2)\n",
    "\n",
    "test_loss, test_acc = model.evaluate(x_test, y_test, verbose=2)\n",
    "print(f'Test accuracy: {test_acc * 100:.2f}%')\n",
    "\n",
    "# Plot accuracy\n",
    "plt.figure(figsize=(12, 5))\n",
    "plt.plot(history.history['accuracy'], label='Training Accuracy')\n",
    "plt.plot(history.history['val_accuracy'], label='Validation Accuracy')\n",
    "plt.xlabel('Epoch')\n",
    "plt.ylabel('Accuracy (%)')\n",
    "plt.title('Training and Validation Accuracy')\n",
    "plt.legend()\n",
    "plt.show()\n",
    "\n",
    "# Confusion Matrix\n",
    "y_pred = model.predict(x_test)\n",
    "y_pred_classes = np.argmax(y_pred, axis=1)\n",
    "y_true_classes = np.argmax(y_test, axis=1)\n",
    "cm = confusion_matrix(y_true_classes, y_pred_classes)\n",
    "cmd = ConfusionMatrixDisplay(cm, display_labels=range(num_classes))\n",
    "cmd.plot(cmap=plt.cm.Greens)\n",
    "plt.title(f\"Iteration 1 - Confusion Matrix\")\n",
    "plt.show()"
   ]
  },
  {
   "cell_type": "markdown",
   "metadata": {},
   "source": [
    "#### **Iteration 2: Increase the number of neurons in the hidden layer to 500**"
   ]
  },
  {
   "cell_type": "code",
   "execution_count": null,
   "metadata": {},
   "outputs": [],
   "source": [
    "# MLP Model with 500 neurons in the hidden layer\n",
    "hidden_size = 500\n",
    "\n",
    "inputs = Input(shape=(784,))\n",
    "x = Dense(hidden_size)(inputs)\n",
    "x = ReLU()(x)\n",
    "x = Dense(10)(x)\n",
    "output = Softmax()(x)\n",
    "\n",
    "model = Model(inputs=inputs, outputs=output)\n",
    "model.summary()\n",
    "\n",
    "model.compile(optimizer='SGD', loss='MeanSquaredError', metrics=['accuracy'])\n",
    "history = model.fit(x_train, y_train, epochs=100, batch_size=100, validation_split=0.2)\n",
    "\n",
    "test_loss, test_acc = model.evaluate(x_test, y_test, verbose=2)\n",
    "print(f'Test accuracy: {test_acc * 100:.2f}%')\n",
    "\n",
    "# Plot accuracy\n",
    "plt.figure(figsize=(12, 5))\n",
    "plt.plot(history.history['accuracy'], label='Training Accuracy')\n",
    "plt.plot(history.history['val_accuracy'], label='Validation Accuracy')\n",
    "plt.xlabel('Epoch')\n",
    "plt.ylabel('Accuracy (%)')\n",
    "plt.title('Training and Validation Accuracy')\n",
    "plt.legend()\n",
    "plt.show()\n",
    "\n",
    "# Confusion Matrix\n",
    "y_pred = model.predict(x_test)\n",
    "y_pred_classes = np.argmax(y_pred, axis=1)\n",
    "y_true_classes = np.argmax(y_test, axis=1)\n",
    "cm = confusion_matrix(y_true_classes, y_pred_classes)\n",
    "cmd = ConfusionMatrixDisplay(cm, display_labels=range(num_classes))\n",
    "cmd.plot(cmap=plt.cm.Greens)\n",
    "plt.title(f\"Iteration 2 - Confusion Matrix\")\n",
    "plt.show()"
   ]
  },
  {
   "cell_type": "markdown",
   "metadata": {},
   "source": [
    "#### **Iteration 3: Change the activation function to 'tanh'**"
   ]
  },
  {
   "cell_type": "code",
   "execution_count": null,
   "metadata": {},
   "outputs": [],
   "source": [
    "# MLP Model with 'tanh' activation function\n",
    "hidden_size = 250\n",
    "\n",
    "inputs = Input(shape=(784,))\n",
    "x = Dense(hidden_size)(inputs)\n",
    "x = tf.keras.layers.Activation('tanh')(x)\n",
    "x = Dense(10)(x)\n",
    "output = Softmax()(x)\n",
    "\n",
    "model = Model(inputs=inputs, outputs=output)\n",
    "model.summary()\n",
    "\n",
    "model.compile(optimizer='SGD', loss='MeanSquaredError', metrics=['accuracy'])\n",
    "history = model.fit(x_train, y_train, epochs=100, batch_size=100, validation_split=0.2)\n",
    "\n",
    "test_loss, test_acc = model.evaluate(x_test, y_test, verbose=2)\n",
    "print(f'Test accuracy: {test_acc * 100:.2f}%')\n",
    "\n",
    "# Plot accuracy\n",
    "plt.figure(figsize=(12, 5))\n",
    "plt.plot(history.history['accuracy'], label='Training Accuracy')\n",
    "plt.plot(history.history['val_accuracy'], label='Validation Accuracy')\n",
    "plt.xlabel('Epoch')\n",
    "plt.ylabel('Accuracy (%)')\n",
    "plt.title('Training and Validation Accuracy')\n",
    "plt.legend()\n",
    "plt.show()\n",
    "\n",
    "# Confusion Matrix\n",
    "y_pred = model.predict(x_test)\n",
    "y_pred_classes = np.argmax(y_pred, axis=1)\n",
    "y_true_classes = np.argmax(y_test, axis=1)\n",
    "cm = confusion_matrix(y_true_classes, y_pred_classes)\n",
    "cmd = ConfusionMatrixDisplay(cm, display_labels=range(num_classes))\n",
    "cmd.plot(cmap=plt.cm.Greens)\n",
    "plt.title(f\"Iteration 3 - Confusion Matrix\")\n",
    "plt.show()"
   ]
  },
  {
   "cell_type": "markdown",
   "metadata": {},
   "source": [
    "#### **Iteration 4: Combine iterations 1 and 2**"
   ]
  },
  {
   "cell_type": "code",
   "execution_count": null,
   "metadata": {},
   "outputs": [],
   "source": [
    "# MLP Model with 2 hidden layers and 500 neurons in each hidden layer\n",
    "hidden_size = 500\n",
    "\n",
    "inputs = Input(shape=(784,))\n",
    "x = Dense(hidden_size)(inputs)\n",
    "x = ReLU()(x)\n",
    "x = Dense(hidden_size)(x)\n",
    "x = ReLU()(x)\n",
    "x = Dense(10)(x)\n",
    "output = Softmax()(x)\n",
    "\n",
    "model = Model(inputs=inputs, outputs=output)\n",
    "model.summary()\n",
    "\n",
    "model.compile(optimizer='SGD', loss='MeanSquaredError', metrics=['accuracy'])\n",
    "history = model.fit(x_train, y_train, epochs=100, batch_size=100, validation_split=0.2)\n",
    "\n",
    "test_loss, test_acc = model.evaluate(x_test, y_test, verbose=2)\n",
    "print(f'Test accuracy: {test_acc * 100:.2f}%')\n",
    "\n",
    "# Plot accuracy\n",
    "plt.figure(figsize=(12, 5))\n",
    "plt.plot(history.history['accuracy'], label='Training Accuracy')\n",
    "plt.plot(history.history['val_accuracy'], label='Validation Accuracy')\n",
    "plt.xlabel('Epoch')\n",
    "plt.ylabel('Accuracy (%)')\n",
    "plt.title('Training and Validation Accuracy')\n",
    "plt.legend()\n",
    "plt.show()\n",
    "\n",
    "# Confusion Matrix\n",
    "y_pred = model.predict(x_test)\n",
    "y_pred_classes = np.argmax(y_pred, axis=1)\n",
    "y_true_classes = np.argmax(y_test, axis=1)\n",
    "cm = confusion_matrix(y_true_classes, y_pred_classes)\n",
    "cmd = ConfusionMatrixDisplay(cm, display_labels=range(num_classes))\n",
    "cmd.plot(cmap=plt.cm.Greens)\n",
    "plt.title(f\"Iteration 4 - Confusion Matrix\")\n",
    "plt.show()"
   ]
  },
  {
   "cell_type": "markdown",
   "metadata": {},
   "source": [
    "#### **Iteration 5: Combine iterations 1, 2, and 3**"
   ]
  },
  {
   "cell_type": "code",
   "execution_count": null,
   "metadata": {},
   "outputs": [],
   "source": [
    "# MLP Model with 2 hidden layers, 500 neurons in each hidden layer, and 'tanh' activation function\n",
    "hidden_size = 500\n",
    "\n",
    "inputs = Input(shape=(784,))\n",
    "x = Dense(hidden_size)(inputs)\n",
    "x = tf.keras.layers.Activation('tanh')(x)\n",
    "x = Dense(hidden_size)(x)\n",
    "x = tf.keras.layers.Activation('tanh')(x)\n",
    "x = Dense(10)(x)\n",
    "output = Softmax()(x)\n",
    "\n",
    "model = Model(inputs=inputs, outputs=output)\n",
    "model.summary()\n",
    "\n",
    "model.compile(optimizer='SGD', loss='MeanSquaredError', metrics=['accuracy'])\n",
    "history = model.fit(x_train, y_train, epochs=100, batch_size=100, validation_split=0.2)\n",
    "\n",
    "test_loss, test_acc = model.evaluate(x_test, y_test, verbose=2)\n",
    "print(f'Test accuracy: {test_acc * 100:.2f}%')\n",
    "\n",
    "# Plot accuracy\n",
    "plt.figure(figsize=(12, 5))\n",
    "plt.plot(history.history['accuracy'], label='Training Accuracy')\n",
    "plt.plot(history.history['val_accuracy'], label='Validation Accuracy')\n",
    "plt.xlabel('Epoch')\n",
    "plt.ylabel('Accuracy (%)')\n",
    "plt.title('Training and Validation Accuracy')\n",
    "plt.legend()\n",
    "plt.show()\n",
    "\n",
    "# Confusion Matrix\n",
    "y_pred = model.predict(x_test)\n",
    "y_pred_classes = np.argmax(y_pred, axis=1)\n",
    "y_true_classes = np.argmax(y_test, axis=1)\n",
    "cm = confusion_matrix(y_true_classes, y_pred_classes)\n",
    "cmd = ConfusionMatrixDisplay(cm, display_labels=range(num_classes))\n",
    "cmd.plot(cmap=plt.cm.Greens)\n",
    "plt.title(f\"Iteration 5 - Confusion Matrix\")\n",
    "plt.show()"
   ]
  },
  {
   "cell_type": "code",
   "execution_count": null,
   "metadata": {},
   "outputs": [],
   "source": [
    "import session_info\n",
    "session_info.show(html=False)"
   ]
  }
 ],
 "metadata": {
  "colab": {
   "provenance": []
  },
  "kernelspec": {
   "display_name": "Python 3",
   "language": "python",
   "name": "python3"
  },
  "language_info": {
   "codemirror_mode": {
    "name": "ipython",
    "version": 3
   },
   "file_extension": ".py",
   "mimetype": "text/x-python",
   "name": "python",
   "nbconvert_exporter": "python",
   "pygments_lexer": "ipython3",
   "version": "3.13.2"
  }
 },
 "nbformat": 4,
 "nbformat_minor": 5
}
